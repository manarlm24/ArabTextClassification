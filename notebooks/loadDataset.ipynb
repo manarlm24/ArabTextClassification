{
 "cells": [
  {
   "cell_type": "markdown",
   "id": "915b5ff8",
   "metadata": {},
   "source": [
    "#### ***1/-Loading the Dataset***"
   ]
  },
  {
   "cell_type": "code",
   "execution_count": 1,
   "id": "da21d910",
   "metadata": {},
   "outputs": [
    {
     "name": "stdout",
     "output_type": "stream",
     "text": [
      "Dataset loaded:\n",
      "Total samples: 45500\n",
      "Labels: label\n",
      "Culture     6500\n",
      "Finance     6500\n",
      "Medical     6500\n",
      "Politics    6500\n",
      "Religion    6500\n",
      "Sports      6500\n",
      "Tech        6500\n",
      "Name: count, dtype: int64\n"
     ]
    },
    {
     "data": {
      "text/html": [
       "<div>\n",
       "<style scoped>\n",
       "    .dataframe tbody tr th:only-of-type {\n",
       "        vertical-align: middle;\n",
       "    }\n",
       "\n",
       "    .dataframe tbody tr th {\n",
       "        vertical-align: top;\n",
       "    }\n",
       "\n",
       "    .dataframe thead th {\n",
       "        text-align: right;\n",
       "    }\n",
       "</style>\n",
       "<table border=\"1\" class=\"dataframe\">\n",
       "  <thead>\n",
       "    <tr style=\"text-align: right;\">\n",
       "      <th></th>\n",
       "      <th>text</th>\n",
       "      <th>label</th>\n",
       "    </tr>\n",
       "  </thead>\n",
       "  <tbody>\n",
       "    <tr>\n",
       "      <th>0</th>\n",
       "      <td>ينظم معهد الشارقة للفنون معرضاً فنياً تحت عنوا...</td>\n",
       "      <td>Culture</td>\n",
       "    </tr>\n",
       "    <tr>\n",
       "      <th>1</th>\n",
       "      <td>تقيم الفنانة ليتا كابيلوت معرضاً في مطلع العام...</td>\n",
       "      <td>Culture</td>\n",
       "    </tr>\n",
       "    <tr>\n",
       "      <th>2</th>\n",
       "      <td>تتواصل الليلة مسيرة التحدّي والمتعة والإثارة ض...</td>\n",
       "      <td>Culture</td>\n",
       "    </tr>\n",
       "    <tr>\n",
       "      <th>3</th>\n",
       "      <td>عقدت ظهر أمس الأول في قصر الثقافة في الشارقة ا...</td>\n",
       "      <td>Culture</td>\n",
       "    </tr>\n",
       "    <tr>\n",
       "      <th>4</th>\n",
       "      <td>اختارت صحيفة «التايمز» جورج أورويل ليحل في الم...</td>\n",
       "      <td>Culture</td>\n",
       "    </tr>\n",
       "  </tbody>\n",
       "</table>\n",
       "</div>"
      ],
      "text/plain": [
       "                                                text    label\n",
       "0  ينظم معهد الشارقة للفنون معرضاً فنياً تحت عنوا...  Culture\n",
       "1  تقيم الفنانة ليتا كابيلوت معرضاً في مطلع العام...  Culture\n",
       "2  تتواصل الليلة مسيرة التحدّي والمتعة والإثارة ض...  Culture\n",
       "3  عقدت ظهر أمس الأول في قصر الثقافة في الشارقة ا...  Culture\n",
       "4  اختارت صحيفة «التايمز» جورج أورويل ليحل في الم...  Culture"
      ]
     },
     "execution_count": 1,
     "metadata": {},
     "output_type": "execute_result"
    }
   ],
   "source": [
    "import os\n",
    "import pandas as pd\n",
    "\n",
    "# Path to your dataset\n",
    "data_dir = \"C:\\ArabTextClassification\\dataset\\TextClasses\"  # replace with your actual folder name\n",
    "data = []\n",
    "\n",
    "# Loop through each class folder\n",
    "for class_name in os.listdir(data_dir):\n",
    "    class_path = os.path.join(data_dir, class_name)\n",
    "    if os.path.isdir(class_path):\n",
    "        for filename in os.listdir(class_path):\n",
    "            file_path = os.path.join(class_path, filename)\n",
    "            try:\n",
    "                with open(file_path, 'r', encoding='utf-8') as f:\n",
    "                    text = f.read().strip()\n",
    "                    if text:  # Skip empty files\n",
    "                        data.append((text, class_name))\n",
    "            except Exception as e:\n",
    "                print(f\"Error reading {file_path}: {e}\")\n",
    "\n",
    "# Create a DataFrame\n",
    "df = pd.DataFrame(data, columns=[\"text\", \"label\"])\n",
    "\n",
    "# Show dataset info\n",
    "print(\"Dataset loaded:\")\n",
    "print(\"Total samples:\", len(df))\n",
    "print(\"Labels:\", df['label'].value_counts())\n",
    "df.head()\n"
   ]
  },
  {
   "cell_type": "markdown",
   "id": "311226b9",
   "metadata": {},
   "source": [
    "The dataset contains 45,500 samples across multiple classes(7),and every class contains 6500 file.\n"
   ]
  },
  {
   "cell_type": "markdown",
   "id": "a760a7ee",
   "metadata": {},
   "source": []
  },
  {
   "cell_type": "markdown",
   "id": "2e840694",
   "metadata": {},
   "source": [
    "#### ***2/-Exploratory Data Analysis (EDA)***"
   ]
  },
  {
   "cell_type": "markdown",
   "id": "687854e6",
   "metadata": {},
   "source": [
    "##### **>import the libraries**"
   ]
  },
  {
   "cell_type": "code",
   "execution_count": 2,
   "id": "7dd6da7f",
   "metadata": {},
   "outputs": [],
   "source": [
    "import matplotlib.pyplot as plt\n",
    "import seaborn as sns\n",
    "import numpy as np"
   ]
  },
  {
   "cell_type": "markdown",
   "id": "e7454b68",
   "metadata": {},
   "source": [
    "##### **>Visualize class distribution.**"
   ]
  },
  {
   "cell_type": "code",
   "execution_count": 3,
   "id": "33a7e1ee",
   "metadata": {},
   "outputs": [
    {
     "data": {
      "image/png": "[encoded data removed]",
      "text/plain": [
       "<Figure size 600x300 with 1 Axes>"
      ]
     },
     "metadata": {},
     "output_type": "display_data"
    }
   ],
   "source": [
    "\n",
    "plt.figure(figsize=(6,3))\n",
    "sns.countplot(x='label', data=df, order=df['label'].value_counts().index)\n",
    "plt.title('Class Distribution')\n",
    "plt.xticks(rotation=0)\n",
    "plt.tight_layout()\n",
    "plt.show()"
   ]
  },
  {
   "cell_type": "markdown",
   "id": "f5bdeb59",
   "metadata": {},
   "source": [
    "From the plot, we can observe that the dataset is balanced, with each class containing an equal number of samples (approximately 6,500 samples per class). This balance reduces the risk of bias towards any particular class.\n"
   ]
  },
  {
   "cell_type": "markdown",
   "id": "1b114da1",
   "metadata": {},
   "source": [
    "##### **>Text length analysis**"
   ]
  },
  {
   "cell_type": "code",
   "execution_count": 4,
   "id": "79abc407",
   "metadata": {},
   "outputs": [
    {
     "data": {
      "image/png": "[encoded data removed]",
      "text/plain": [
       "<Figure size 800x400 with 1 Axes>"
      ]
     },
     "metadata": {},
     "output_type": "display_data"
    }
   ],
   "source": [
    "\n",
    "df['text_length'] = df['text'].apply(lambda x: len(x.split()))\n",
    "\n",
    "plt.figure(figsize=(8, 4))\n",
    "sns.boxplot(x='label', y='text_length', data=df)\n",
    "plt.title('Text Length Distribution per Class')\n",
    "plt.xticks(rotation=45)\n",
    "plt.tight_layout()\n",
    "plt.show()"
   ]
  },
  {
   "cell_type": "markdown",
   "id": "8fd646da",
   "metadata": {},
   "source": [
    "This box plot shows how long the texts are in each class.\n",
    " The line in the box is the middle length (median). \n",
    " The box shows most of the texts, and the dots are texts that are much longer or shorter than usual(outliers).\n"
   ]
  },
  {
   "cell_type": "markdown",
   "id": "94434b11",
   "metadata": {},
   "source": [
    "##### **>Average article length (in words and characters)**"
   ]
  },
  {
   "cell_type": "code",
   "execution_count": 18,
   "id": "f51736da",
   "metadata": {},
   "outputs": [
    {
     "data": {
      "text/html": [
       "<div>\n",
       "<style scoped>\n",
       "    .dataframe tbody tr th:only-of-type {\n",
       "        vertical-align: middle;\n",
       "    }\n",
       "\n",
       "    .dataframe tbody tr th {\n",
       "        vertical-align: top;\n",
       "    }\n",
       "\n",
       "    .dataframe thead th {\n",
       "        text-align: right;\n",
       "    }\n",
       "</style>\n",
       "<table border=\"1\" class=\"dataframe\">\n",
       "  <thead>\n",
       "    <tr style=\"text-align: right;\">\n",
       "      <th></th>\n",
       "      <th>char_count</th>\n",
       "      <th>word_count</th>\n",
       "    </tr>\n",
       "    <tr>\n",
       "      <th>label</th>\n",
       "      <th></th>\n",
       "      <th></th>\n",
       "    </tr>\n",
       "  </thead>\n",
       "  <tbody>\n",
       "    <tr>\n",
       "      <th>Culture</th>\n",
       "      <td>2107.546462</td>\n",
       "      <td>348.219538</td>\n",
       "    </tr>\n",
       "    <tr>\n",
       "      <th>Finance</th>\n",
       "      <td>1708.206000</td>\n",
       "      <td>296.175692</td>\n",
       "    </tr>\n",
       "    <tr>\n",
       "      <th>Medical</th>\n",
       "      <td>1543.505077</td>\n",
       "      <td>246.736462</td>\n",
       "    </tr>\n",
       "    <tr>\n",
       "      <th>Politics</th>\n",
       "      <td>1434.378308</td>\n",
       "      <td>237.737077</td>\n",
       "    </tr>\n",
       "    <tr>\n",
       "      <th>Religion</th>\n",
       "      <td>4674.868308</td>\n",
       "      <td>809.917231</td>\n",
       "    </tr>\n",
       "    <tr>\n",
       "      <th>Sports</th>\n",
       "      <td>1742.242000</td>\n",
       "      <td>295.247231</td>\n",
       "    </tr>\n",
       "    <tr>\n",
       "      <th>Tech</th>\n",
       "      <td>2159.999846</td>\n",
       "      <td>350.638462</td>\n",
       "    </tr>\n",
       "  </tbody>\n",
       "</table>\n",
       "</div>"
      ],
      "text/plain": [
       "           char_count  word_count\n",
       "label                            \n",
       "Culture   2107.546462  348.219538\n",
       "Finance   1708.206000  296.175692\n",
       "Medical   1543.505077  246.736462\n",
       "Politics  1434.378308  237.737077\n",
       "Religion  4674.868308  809.917231\n",
       "Sports    1742.242000  295.247231\n",
       "Tech      2159.999846  350.638462"
      ]
     },
     "execution_count": 18,
     "metadata": {},
     "output_type": "execute_result"
    }
   ],
   "source": [
    "df['char_count'] = df['text'].str.len()\n",
    "df['word_count'] = df['text'].str.split().apply(len)\n",
    "\n",
    "# Overall averages\n",
    "df.groupby('label')[['char_count', 'word_count']].mean()\n"
   ]
  },
  {
   "cell_type": "markdown",
   "id": "b149b27f",
   "metadata": {},
   "source": [
    " ##### **>Find longest and shortest article examples**"
   ]
  },
  {
   "cell_type": "code",
   "execution_count": 22,
   "id": "229e3ae1",
   "metadata": {},
   "outputs": [
    {
     "data": {
      "text/plain": [
       "text            تجربة أفاق\n",
       "label               Sports\n",
       "text_length              2\n",
       "unique_words             2\n",
       "char_count              10\n",
       "word_count               2\n",
       "Name: 34916, dtype: object"
      ]
     },
     "execution_count": 22,
     "metadata": {},
     "output_type": "execute_result"
    }
   ],
   "source": [
    "# Shortest\n",
    "df.loc[df['char_count'].idxmin()]"
   ]
  },
  {
   "cell_type": "code",
   "execution_count": null,
   "id": "f6ad076d",
   "metadata": {},
   "outputs": [
    {
     "data": {
      "text/plain": [
       "text            تلتقي إسبانيا مع إيطاليا مساء اليوم في المبارا...\n",
       "label                                                      Sports\n",
       "text_length                                                  5786\n",
       "unique_words                                                 2379\n",
       "char_count                                                  33339\n",
       "word_count                                                   5786\n",
       "Name: 35850, dtype: object"
      ]
     },
     "execution_count": 21,
     "metadata": {},
     "output_type": "execute_result"
    }
   ],
   "source": [
    "# Longest\n",
    "df.loc[df['char_count'].idxmax()]\n"
   ]
  },
  {
   "cell_type": "markdown",
   "id": "b9392066",
   "metadata": {},
   "source": [
    "#### ***3/-Build First Model (baseline with no preprocessing.)***"
   ]
  },
  {
   "cell_type": "code",
   "execution_count": 23,
   "id": "669815d3",
   "metadata": {},
   "outputs": [],
   "source": [
    "#required libraries\n",
    "from sklearn.model_selection import train_test_split\n",
    "from sklearn.feature_extraction.text import TfidfVectorizer\n",
    "from sklearn.linear_model import LogisticRegression\n",
    "from sklearn.metrics import accuracy_score, confusion_matrix, classification_report\n"
   ]
  },
  {
   "cell_type": "code",
   "execution_count": null,
   "id": "c3e307fe",
   "metadata": {},
   "outputs": [],
   "source": []
  }
 ],
 "metadata": {
  "kernelspec": {
   "display_name": ".venv",
   "language": "python",
   "name": "python3"
  },
  "language_info": {
   "codemirror_mode": {
    "name": "ipython",
    "version": 3
   },
   "file_extension": ".py",
   "mimetype": "text/x-python",
   "name": "python",
   "nbconvert_exporter": "python",
   "pygments_lexer": "ipython3",
   "version": "3.10.8"
  }
 },
 "nbformat": 4,
 "nbformat_minor": 5
}
